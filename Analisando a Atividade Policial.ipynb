{
 "cells": [
  {
   "cell_type": "markdown",
   "metadata": {
    "id": "rc1xw7mqiCri"
   },
   "source": [
    "## Analisando a Atividade Policial\n",
    "\n",
    "Esta analise foi realizada durante a realização do curso _[Analyzing Police Activity with pandas](https://learn.datacamp.com/courses/analyzing-police-activity-with-pandas)_ fornecido pelo DataCamp.\n",
    "\n",
    "O conjunto de dados usado é fornecido pelo Stanford Open Policing Project e representa as paradas de trânsito dos policiais nos Estados Unidos no Estado de Rhode Island durante os anos de 2005 - 2015. Cada linha neste conjunto de dados representa a parada realizada por algum policial de algum condutor de veículo.\n",
    "\n",
    "A análise dos dados é dividida então em três etapas:\n",
    "\n",
    "1. Preparando os dados para a análise;\n",
    "2. Explorando a relação entre gênero e policiamento; e\n",
    "3. Análise de dados exploratórios visuais.\n",
    "\n",
    "A dinâmica da análise dos dados será feita através de perguntas e respostas. Sendo assim, diversas perguntas serão feitas e logo em seguida serão respondidas para que a análise vá acontecendo. "
   ]
  },
  {
   "cell_type": "code",
   "execution_count": 2,
   "metadata": {
    "colab": {
     "base_uri": "https://localhost:8080/",
     "height": 244
    },
    "id": "H6oo4OdxiCrl",
    "outputId": "9579b620-511b-4b47-ec2c-17bec18e7adf"
   },
   "outputs": [
    {
     "data": {
      "text/html": [
       "<div>\n",
       "<style scoped>\n",
       "    .dataframe tbody tr th:only-of-type {\n",
       "        vertical-align: middle;\n",
       "    }\n",
       "\n",
       "    .dataframe tbody tr th {\n",
       "        vertical-align: top;\n",
       "    }\n",
       "\n",
       "    .dataframe thead th {\n",
       "        text-align: right;\n",
       "    }\n",
       "</style>\n",
       "<table border=\"1\" class=\"dataframe\">\n",
       "  <thead>\n",
       "    <tr style=\"text-align: right;\">\n",
       "      <th></th>\n",
       "      <th>state</th>\n",
       "      <th>stop_date</th>\n",
       "      <th>stop_time</th>\n",
       "      <th>county_name</th>\n",
       "      <th>driver_gender</th>\n",
       "      <th>driver_race</th>\n",
       "      <th>violation_raw</th>\n",
       "      <th>violation</th>\n",
       "      <th>search_conducted</th>\n",
       "      <th>search_type</th>\n",
       "      <th>stop_outcome</th>\n",
       "      <th>is_arrested</th>\n",
       "      <th>stop_duration</th>\n",
       "      <th>drugs_related_stop</th>\n",
       "      <th>district</th>\n",
       "    </tr>\n",
       "  </thead>\n",
       "  <tbody>\n",
       "    <tr>\n",
       "      <th>0</th>\n",
       "      <td>RI</td>\n",
       "      <td>2005-01-04</td>\n",
       "      <td>12:55</td>\n",
       "      <td>NaN</td>\n",
       "      <td>M</td>\n",
       "      <td>White</td>\n",
       "      <td>Equipment/Inspection Violation</td>\n",
       "      <td>Equipment</td>\n",
       "      <td>False</td>\n",
       "      <td>NaN</td>\n",
       "      <td>Citation</td>\n",
       "      <td>False</td>\n",
       "      <td>0-15 Min</td>\n",
       "      <td>False</td>\n",
       "      <td>Zone X4</td>\n",
       "    </tr>\n",
       "    <tr>\n",
       "      <th>1</th>\n",
       "      <td>RI</td>\n",
       "      <td>2005-01-23</td>\n",
       "      <td>23:15</td>\n",
       "      <td>NaN</td>\n",
       "      <td>M</td>\n",
       "      <td>White</td>\n",
       "      <td>Speeding</td>\n",
       "      <td>Speeding</td>\n",
       "      <td>False</td>\n",
       "      <td>NaN</td>\n",
       "      <td>Citation</td>\n",
       "      <td>False</td>\n",
       "      <td>0-15 Min</td>\n",
       "      <td>False</td>\n",
       "      <td>Zone K3</td>\n",
       "    </tr>\n",
       "    <tr>\n",
       "      <th>2</th>\n",
       "      <td>RI</td>\n",
       "      <td>2005-02-17</td>\n",
       "      <td>04:15</td>\n",
       "      <td>NaN</td>\n",
       "      <td>M</td>\n",
       "      <td>White</td>\n",
       "      <td>Speeding</td>\n",
       "      <td>Speeding</td>\n",
       "      <td>False</td>\n",
       "      <td>NaN</td>\n",
       "      <td>Citation</td>\n",
       "      <td>False</td>\n",
       "      <td>0-15 Min</td>\n",
       "      <td>False</td>\n",
       "      <td>Zone X4</td>\n",
       "    </tr>\n",
       "    <tr>\n",
       "      <th>3</th>\n",
       "      <td>RI</td>\n",
       "      <td>2005-02-20</td>\n",
       "      <td>17:15</td>\n",
       "      <td>NaN</td>\n",
       "      <td>M</td>\n",
       "      <td>White</td>\n",
       "      <td>Call for Service</td>\n",
       "      <td>Other</td>\n",
       "      <td>False</td>\n",
       "      <td>NaN</td>\n",
       "      <td>Arrest Driver</td>\n",
       "      <td>True</td>\n",
       "      <td>16-30 Min</td>\n",
       "      <td>False</td>\n",
       "      <td>Zone X1</td>\n",
       "    </tr>\n",
       "    <tr>\n",
       "      <th>4</th>\n",
       "      <td>RI</td>\n",
       "      <td>2005-02-24</td>\n",
       "      <td>01:20</td>\n",
       "      <td>NaN</td>\n",
       "      <td>F</td>\n",
       "      <td>White</td>\n",
       "      <td>Speeding</td>\n",
       "      <td>Speeding</td>\n",
       "      <td>False</td>\n",
       "      <td>NaN</td>\n",
       "      <td>Citation</td>\n",
       "      <td>False</td>\n",
       "      <td>0-15 Min</td>\n",
       "      <td>False</td>\n",
       "      <td>Zone X3</td>\n",
       "    </tr>\n",
       "  </tbody>\n",
       "</table>\n",
       "</div>"
      ],
      "text/plain": [
       "  state   stop_date stop_time  ...  stop_duration drugs_related_stop district\n",
       "0    RI  2005-01-04     12:55  ...       0-15 Min              False  Zone X4\n",
       "1    RI  2005-01-23     23:15  ...       0-15 Min              False  Zone K3\n",
       "2    RI  2005-02-17     04:15  ...       0-15 Min              False  Zone X4\n",
       "3    RI  2005-02-20     17:15  ...      16-30 Min              False  Zone X1\n",
       "4    RI  2005-02-24     01:20  ...       0-15 Min              False  Zone X3\n",
       "\n",
       "[5 rows x 15 columns]"
      ]
     },
     "execution_count": 2,
     "metadata": {
      "tags": []
     },
     "output_type": "execute_result"
    }
   ],
   "source": [
    "import pandas as pd\n",
    "\n",
    "# Armazenando os dados no DataFrame chamado ri \n",
    "ri = pd.read_csv('datasets/police.data')\n",
    "ri.head()"
   ]
  },
  {
   "cell_type": "markdown",
   "metadata": {
    "id": "Qj_4_Zh3iCru"
   },
   "source": [
    "### 1. Preparando os Dados para Análise\n",
    "\n",
    "Antes de iniciar a análise, é fundamental examinar e limpar o conjunto de dados, para tornar o trabalho com ele um processo mais eficiente. Neste conjunto de dados, é necessário corrigir os tipos de dados, manipular valores ausentes e descartar colunas e linhas enquanto se aprende sobre o conjunto de dados do _Stanford Open Policing Project_."
   ]
  },
  {
   "cell_type": "code",
   "execution_count": 3,
   "metadata": {
    "colab": {
     "base_uri": "https://localhost:8080/",
     "height": 347
    },
    "id": "ikLft9KyiCrz",
    "outputId": "41fefa26-e3d9-48cb-cb93-bed7ad77ff23"
   },
   "outputs": [
    {
     "name": "stdout",
     "output_type": "stream",
     "text": [
      "Número de valores NaN em cada coluna:\n",
      "state                     0\n",
      "stop_date                 0\n",
      "stop_time                 0\n",
      "county_name           91741\n",
      "driver_gender          5205\n",
      "driver_race            5202\n",
      "violation_raw          5202\n",
      "violation              5202\n",
      "search_conducted          0\n",
      "search_type           88434\n",
      "stop_outcome           5202\n",
      "is_arrested            5202\n",
      "stop_duration          5202\n",
      "drugs_related_stop        0\n",
      "district                  0\n",
      "dtype: int64\n",
      "\n",
      "Shape: (91741, 15)\n"
     ]
    }
   ],
   "source": [
    "# Mostrando o número de valores NaN em cada coluna do DataFrame\n",
    "print(\"Número de valores NaN em cada coluna:\\n\" + str(ri.isnull().sum()))\n",
    "\n",
    "# Mostrando o tamanho do DataFrame (linhas, colunas)\n",
    "print(\"\\nShape: \" + str(ri.shape))"
   ]
  },
  {
   "cell_type": "markdown",
   "metadata": {
    "id": "Qt_PjdZMiCr5"
   },
   "source": [
    "Com esta análise, podemos notar que a coluna `county_name` sempre possui valor NaN. Além disso, este conjunto de dados está restrito a apenas um estado dos EUA, portanto a coluna `state` não será útil. Sendo assim, iremos remover estas duas colunas do DataFrame."
   ]
  },
  {
   "cell_type": "code",
   "execution_count": 4,
   "metadata": {
    "id": "GuUl9K9WiCr7"
   },
   "outputs": [],
   "source": [
    "# Removendo as colunas 'county_name' e 'state' do DataFrame\n",
    "ri.drop(['county_name', 'state'], axis='columns', inplace=True)"
   ]
  },
  {
   "cell_type": "markdown",
   "metadata": {
    "id": "iIER6DB-iCsA"
   },
   "source": [
    "Considere que as colunas `driver_gender` e `violation` são críticas para a análise e, portanto, uma linha que não possua estes dados será inútil para a análise. Sendo assim, também eliminamos as linhas que não possuem um destes valores."
   ]
  },
  {
   "cell_type": "code",
   "execution_count": 5,
   "metadata": {
    "id": "Dlcyn5IUiCsB"
   },
   "outputs": [],
   "source": [
    "# Removendo as linhas com valores NaN nas colunas 'driver_gender' ou 'violation'\n",
    "ri.dropna(subset=['driver_gender', 'violation'], inplace=True)"
   ]
  },
  {
   "cell_type": "code",
   "execution_count": 6,
   "metadata": {
    "colab": {
     "base_uri": "https://localhost:8080/",
     "height": 312
    },
    "id": "TmRb8MfliCsH",
    "outputId": "232ae3fe-6c4c-4ca9-b2fa-001e8a130531"
   },
   "outputs": [
    {
     "name": "stdout",
     "output_type": "stream",
     "text": [
      "Número de valores NaN em cada coluna:\n",
      "stop_date                 0\n",
      "stop_time                 0\n",
      "driver_gender             0\n",
      "driver_race               0\n",
      "violation_raw             0\n",
      "violation                 0\n",
      "search_conducted          0\n",
      "search_type           83229\n",
      "stop_outcome              0\n",
      "is_arrested               0\n",
      "stop_duration             0\n",
      "drugs_related_stop        0\n",
      "district                  0\n",
      "dtype: int64\n",
      "\n",
      "Shape: (86536, 13)\n"
     ]
    }
   ],
   "source": [
    "# Mostrando o número de valores NaN em cada coluna do DataFrame\n",
    "print(\"Número de valores NaN em cada coluna:\\n\" + str(ri.isnull().sum()))\n",
    "\n",
    "# Mostrando o tamanho do DataFrame (linhas, colunas)\n",
    "print(\"\\nShape: \" + str(ri.shape))"
   ]
  },
  {
   "cell_type": "markdown",
   "metadata": {
    "id": "wKYwI-iBiCsN"
   },
   "source": [
    "Note que agora temos um DataFrame com muito menos valores NaN, sendo que todos os valores NaN que ainda restam se encontram na coluna `search_type`.."
   ]
  },
  {
   "cell_type": "markdown",
   "metadata": {
    "id": "LtUbxkCjiCsO"
   },
   "source": [
    "#### 1.1 Combinando Colunas do Tipo Objeto\n",
    "\n",
    "Atualmente, a data e hora de cada parada de trânsito são armazenados em colunas separadas (`stop_date`e `stop_time`) do tipo objeto. Vamos então combinar estas duas colunas em uma única coluna e a converter a mesma para o formato DateTime. Isso habilitará atributos baseados em datas convenientes que usaremos posteriormente."
   ]
  },
  {
   "cell_type": "code",
   "execution_count": 7,
   "metadata": {
    "colab": {
     "base_uri": "https://localhost:8080/",
     "height": 278
    },
    "id": "nGZMj_dPiCsP",
    "outputId": "8fe8f262-5881-4471-9187-7836ee186976"
   },
   "outputs": [
    {
     "name": "stdout",
     "output_type": "stream",
     "text": [
      "stop_date                     object\n",
      "stop_time                     object\n",
      "driver_gender                 object\n",
      "driver_race                   object\n",
      "violation_raw                 object\n",
      "violation                     object\n",
      "search_conducted                bool\n",
      "search_type                   object\n",
      "stop_outcome                  object\n",
      "is_arrested                   object\n",
      "stop_duration                 object\n",
      "drugs_related_stop              bool\n",
      "district                      object\n",
      "stop_datetime         datetime64[ns]\n",
      "dtype: object\n"
     ]
    }
   ],
   "source": [
    "# Concatenando as colunas 'stop_date' e 'stop_time' (separadas por um espaço)\n",
    "combined = ri['stop_date'].str.cat(ri['stop_time'], sep=' ')\n",
    "\n",
    "# Convertendo a variável 'combined' no formato DateTime e armazenando na coluna 'stop_datetime'\n",
    "ri['stop_datetime'] = pd.to_datetime(combined)\n",
    "\n",
    "# Examinando os tipos das colunas presentes no DataFrame\n",
    "print(ri.dtypes)"
   ]
  },
  {
   "cell_type": "markdown",
   "metadata": {
    "id": "FtK55LLPiCsT"
   },
   "source": [
    "#### 1.2 Redefinindo o index\n",
    "\n",
    "Agora iremos definir a coluna `stop_datetime` como o índice do DataFrame."
   ]
  },
  {
   "cell_type": "code",
   "execution_count": 8,
   "metadata": {
    "colab": {
     "base_uri": "https://localhost:8080/",
     "height": 347
    },
    "id": "BUf69ZLKiCsU",
    "outputId": "9a2a559e-79b7-42ad-a406-ba54da2696ff"
   },
   "outputs": [
    {
     "name": "stdout",
     "output_type": "stream",
     "text": [
      "DatetimeIndex(['2005-01-04 12:55:00', '2005-01-23 23:15:00',\n",
      "               '2005-02-17 04:15:00', '2005-02-20 17:15:00',\n",
      "               '2005-02-24 01:20:00', '2005-03-14 10:00:00',\n",
      "               '2005-03-29 21:55:00', '2005-04-04 21:25:00',\n",
      "               '2005-07-14 11:20:00', '2005-07-14 19:55:00',\n",
      "               ...\n",
      "               '2015-12-31 13:23:00', '2015-12-31 18:59:00',\n",
      "               '2015-12-31 19:13:00', '2015-12-31 20:20:00',\n",
      "               '2015-12-31 20:50:00', '2015-12-31 21:21:00',\n",
      "               '2015-12-31 21:59:00', '2015-12-31 22:04:00',\n",
      "               '2015-12-31 22:09:00', '2015-12-31 22:47:00'],\n",
      "              dtype='datetime64[ns]', name='stop_datetime', length=86536, freq=None)\n",
      "\n",
      "\n",
      "Index(['stop_date', 'stop_time', 'driver_gender', 'driver_race',\n",
      "       'violation_raw', 'violation', 'search_conducted', 'search_type',\n",
      "       'stop_outcome', 'is_arrested', 'stop_duration', 'drugs_related_stop',\n",
      "       'district'],\n",
      "      dtype='object')\n"
     ]
    }
   ],
   "source": [
    "# Definindo a coluna 'stop_datetime' como o index\n",
    "ri.set_index('stop_datetime', inplace=True)\n",
    "\n",
    "# Exibindo o index do DataFrame\n",
    "print(ri.index)\n",
    "\n",
    "print('\\n')\n",
    "\n",
    "# Exibindo as colunas do DataFrame\n",
    "print(ri.columns)"
   ]
  },
  {
   "cell_type": "markdown",
   "metadata": {
    "id": "hIGh4Xe3iCsY"
   },
   "source": [
    "## 2. Explorando a Relação entre Gênero e Policiamento\n",
    "\n",
    "O gênero do motorista influencia o comportamento da polícia durante uma parada no trânsito? Esta pergunta é respondida durante a prática de filtragem, agrupamento, encadeamento de métodos, matemática booleana e métodos de string."
   ]
  },
  {
   "cell_type": "code",
   "execution_count": 9,
   "metadata": {
    "colab": {
     "base_uri": "https://localhost:8080/",
     "height": 139
    },
    "id": "9FgukrfmiCsZ",
    "outputId": "4b6d4ea2-563d-4416-baf2-28b6427b05fe"
   },
   "outputs": [
    {
     "data": {
      "text/plain": [
       "Speeding               48423\n",
       "Moving violation       16224\n",
       "Equipment              10921\n",
       "Other                   4409\n",
       "Registration/plates     3703\n",
       "Seat belt               2856\n",
       "Name: violation, dtype: int64"
      ]
     },
     "execution_count": 9,
     "metadata": {
      "tags": []
     },
     "output_type": "execute_result"
    }
   ],
   "source": [
    "# Apresentando a contagem das violações acontecidas\n",
    "ri['violation'].value_counts()"
   ]
  },
  {
   "cell_type": "code",
   "execution_count": 10,
   "metadata": {
    "colab": {
     "base_uri": "https://localhost:8080/",
     "height": 139
    },
    "id": "NfbuezMNiCsd",
    "outputId": "b39656c1-39dc-4598-f8b4-6fa4de216557"
   },
   "outputs": [
    {
     "data": {
      "text/plain": [
       "Speeding               0.559571\n",
       "Moving violation       0.187483\n",
       "Equipment              0.126202\n",
       "Other                  0.050950\n",
       "Registration/plates    0.042791\n",
       "Seat belt              0.033004\n",
       "Name: violation, dtype: float64"
      ]
     },
     "execution_count": 10,
     "metadata": {
      "tags": []
     },
     "output_type": "execute_result"
    }
   ],
   "source": [
    "# Apresentando a contagem das violações acontecidas em porcentagem\n",
    "ri['violation'].value_counts(normalize=True)"
   ]
  },
  {
   "cell_type": "markdown",
   "metadata": {
    "id": "i9fEfU4miCsi"
   },
   "source": [
    "#### 2.1 Infrações Diferentes para Sexos Diferentes\n",
    "\n",
    "A questão que estamos tentando responder é se os motoristas do sexo masculino e feminino tendem a cometer diferentes tipos de infrações de trânsito."
   ]
  },
  {
   "cell_type": "code",
   "execution_count": 11,
   "metadata": {
    "colab": {
     "base_uri": "https://localhost:8080/",
     "height": 330
    },
    "id": "kPQY3q_LiCsj",
    "outputId": "3dd6c336-2a54-4ca3-b19b-d432ffecf3af"
   },
   "outputs": [
    {
     "name": "stdout",
     "output_type": "stream",
     "text": [
      "- Violações Femininas Mais Comuns:\n",
      "Speeding               65.811391\n",
      "Moving violation       13.821822\n",
      "Equipment              10.519896\n",
      "Registration/plates     4.441827\n",
      "Other                   2.973837\n",
      "Seat belt               2.431227\n",
      "Name: violation, dtype: float64\n",
      "\n",
      "\n",
      "- Violações Masculinas Mais Comuns:\n",
      "Speeding               52.224276\n",
      "Moving violation       20.614385\n",
      "Equipment              13.415761\n",
      "Other                   5.898474\n",
      "Registration/plates     4.217520\n",
      "Seat belt               3.629585\n",
      "Name: violation, dtype: float64\n"
     ]
    }
   ],
   "source": [
    "# Criando um DataFrame para os motoristas de sexo feminino\n",
    "female = ri[ri['driver_gender'] == 'F']\n",
    "\n",
    "# Criando um DataFrame para os motoristas de sexo masculino\n",
    "male = ri[ri['driver_gender'] == 'M']\n",
    "\n",
    "# Computando as violações dos motoristas de sexo feminino (em proporções)\n",
    "print(\"- Violações Femininas Mais Comuns:\\n\" + str(female['violation'].value_counts(normalize=True) * 100))\n",
    "\n",
    "print('\\n')\n",
    "\n",
    "# Computando as violações dos motoristas de sexo masculino (em proporções)\n",
    "print(\"- Violações Masculinas Mais Comuns:\\n\" + str(male['violation'].value_counts(normalize=True) * 100))"
   ]
  },
  {
   "cell_type": "markdown",
   "metadata": {
    "id": "yr7yE-YEiCsm"
   },
   "source": [
    "#### 2.2 Influência do Gênero na Aplicação de Multas e Prisões\n",
    "\n",
    "Outra pergunta que pode ser feita é se o gênero afeta quem ganha multa por excesso de velocidade? Para responder a essa pergunta, filtramos o DataFrame por várias condições:"
   ]
  },
  {
   "cell_type": "code",
   "execution_count": 12,
   "metadata": {
    "colab": {
     "base_uri": "https://localhost:8080/",
     "height": 330
    },
    "id": "Ym3yac_DiCsn",
    "outputId": "11a23d77-8a17-49de-8e26-e9d2fb13250c"
   },
   "outputs": [
    {
     "name": "stdout",
     "output_type": "stream",
     "text": [
      "Resultados das Paradas de Mulheres por Excesso de Velocidade:\n",
      "Citation            95.219225\n",
      "Warning              4.007414\n",
      "Arrest Driver        0.575227\n",
      "N/D                  0.095871\n",
      "Arrest Passenger     0.063914\n",
      "No Action            0.038348\n",
      "Name: stop_outcome, dtype: float64\n",
      "\n",
      "\n",
      "Resultados das Paradas de Homens por Excesso de Velocidade:\n",
      "Citation            94.459530\n",
      "Warning              3.618391\n",
      "Arrest Driver        1.589529\n",
      "Arrest Passenger     0.128139\n",
      "No Action            0.106782\n",
      "N/D                  0.097629\n",
      "Name: stop_outcome, dtype: float64\n"
     ]
    }
   ],
   "source": [
    "# Criando um DataFrame contendo apenas motoristas de sexo feminino que cometeram uma violação por excesso de velocidade\n",
    "female_and_speeding = ri[(ri.driver_gender == 'F') & (ri.violation == 'Speeding')]\n",
    "\n",
    "# Criando um DataFrame contendo apenas motoristas de sexo masculino que cometeram uma violação por excesso de velocidade\n",
    "male_and_speeding = ri[(ri.driver_gender == 'M') & (ri.violation == 'Speeding')]\n",
    "\n",
    "# Calculando os resultados das paradas para motoristas de sexo feminino (em proporções)\n",
    "print(\"Resultados das Paradas de Mulheres por Excesso de Velocidade:\\n\" + str(female_and_speeding['stop_outcome'].value_counts(normalize=True) * 100))\n",
    "\n",
    "print('\\n')\n",
    "\n",
    "# Calculando os resultados das paradas para motoristas de sexo masculino (em proporções)\n",
    "print(\"Resultados das Paradas de Homens por Excesso de Velocidade:\\n\" + str(male_and_speeding['stop_outcome'].value_counts(normalize=True) * 100))"
   ]
  },
  {
   "cell_type": "markdown",
   "metadata": {
    "id": "kLArUVuTiCst"
   },
   "source": [
    "Fica então evidente que apesar da grande maioria dos casos o policial apenas aplicar uma multa ou realizar um alerta (99.2% das mulheres e 98.0% dos homens), o número de condutores presos é três vezes maior entre os homens se comparado com as mulheres (1.5% dos homens contra 0.5% das mulheres)."
   ]
  },
  {
   "cell_type": "markdown",
   "metadata": {
    "id": "lSbFdLlDiCsu"
   },
   "source": [
    "#### 2.3 Detenções de Acordo com o Distrito Policial\n",
    "\n",
    "Vamos agora comparar a taxa de detenções de acordo com o distrito policial. Primeiro vamos transformar a coluna `is_arrested` em booleana, e posteriormente calcularemos a média de prisões por distrito."
   ]
  },
  {
   "cell_type": "code",
   "execution_count": 13,
   "metadata": {
    "colab": {
     "base_uri": "https://localhost:8080/",
     "height": 156
    },
    "id": "irt08CihiCsv",
    "outputId": "03083625-78fe-4110-8548-7abcdb8e7f0a"
   },
   "outputs": [
    {
     "data": {
      "text/plain": [
       "district\n",
       "Zone K1    0.024349\n",
       "Zone K2    0.030801\n",
       "Zone K3    0.032311\n",
       "Zone X1    0.023494\n",
       "Zone X3    0.034871\n",
       "Zone X4    0.048038\n",
       "Name: is_arrested, dtype: float64"
      ]
     },
     "execution_count": 13,
     "metadata": {
      "tags": []
     },
     "output_type": "execute_result"
    }
   ],
   "source": [
    "# Transformando a coluna 'is_arrested' em booleana\n",
    "ri['is_arrested'] = ri['is_arrested'].astype('bool')\n",
    "\n",
    "# Comparando a média de prisões nos diferentes distritos\n",
    "ri.groupby('district')['is_arrested'].mean()"
   ]
  },
  {
   "cell_type": "markdown",
   "metadata": {
    "id": "0OqO4Y62iCsy"
   },
   "source": [
    "#### 2.4 Detenções de Acordo com o Distrito Policial e o Gênero do Condutor\n",
    "\n",
    "Podemos também ver se existe alguma alteração nas prisões entre os sexos para cada distrito policial. Para isso, podemos utilizar a função `groupby()` com múltiplos indexes:"
   ]
  },
  {
   "cell_type": "code",
   "execution_count": 14,
   "metadata": {
    "colab": {
     "base_uri": "https://localhost:8080/",
     "height": 260
    },
    "id": "ItM2_DzuiCsz",
    "outputId": "f6a99c3b-b470-4ba7-be72-c184b56d0212"
   },
   "outputs": [
    {
     "data": {
      "text/plain": [
       "driver_gender  district\n",
       "F              Zone K1     0.019169\n",
       "               Zone K2     0.022196\n",
       "               Zone K3     0.025156\n",
       "               Zone X1     0.019646\n",
       "               Zone X3     0.027188\n",
       "               Zone X4     0.042149\n",
       "M              Zone K1     0.026588\n",
       "               Zone K2     0.034285\n",
       "               Zone K3     0.034961\n",
       "               Zone X1     0.024563\n",
       "               Zone X3     0.038166\n",
       "               Zone X4     0.049956\n",
       "Name: is_arrested, dtype: float64"
      ]
     },
     "execution_count": 14,
     "metadata": {
      "tags": []
     },
     "output_type": "execute_result"
    }
   ],
   "source": [
    "# Comparando a média de prisões nos diferentes distritos por gênero\n",
    "ri.groupby(['driver_gender', 'district'])['is_arrested'].mean()"
   ]
  },
  {
   "cell_type": "markdown",
   "metadata": {
    "id": "GCvxAU0ViCs4"
   },
   "source": [
    "Repare que após a divisão das prisões por distrito ser feita também para o gênero, fica evidente que o número de mulheres presas é abaixo da média em qualquer distrito policial, assim como o número de homens presos é acima da média também em qualquer distrito policial."
   ]
  },
  {
   "cell_type": "markdown",
   "metadata": {
    "id": "gEeTk1T4iCs5"
   },
   "source": [
    "#### 2.5 Taxa de Busca no Veículo\n",
    "\n",
    "Durante uma parada de trânsito, o policial às vezes faz uma busca no veículo. Calcule a porcentagem de todas as paradas no DataFrame que resultam em uma busca no veículo, também conhecida como taxa de busca."
   ]
  },
  {
   "cell_type": "code",
   "execution_count": 15,
   "metadata": {
    "colab": {
     "base_uri": "https://localhost:8080/",
     "height": 121
    },
    "id": "oB4fqa9jiCs5",
    "outputId": "10bebecc-ce40-4e28-d618-1bfd88efce14"
   },
   "outputs": [
    {
     "name": "stdout",
     "output_type": "stream",
     "text": [
      "False    0.961785\n",
      "True     0.038215\n",
      "Name: search_conducted, dtype: float64\n",
      "\n",
      "\n",
      "Taxa de Busca: 0.038215\n"
     ]
    }
   ],
   "source": [
    "# Calculando a taxa de busca a partir da contagem dos valores presentes na coluna 'search_conducted'\n",
    "print(ri['search_conducted'].value_counts(normalize=True))\n",
    "\n",
    "print(\"\\n\")\n",
    "\n",
    "# Calculando a taxa de busca a partir da média obtida da coluna 'search_conducted' (booleana)\n",
    "print(\"Taxa de Busca: \" + str(ri['search_conducted'].mean().round(6)))"
   ]
  },
  {
   "cell_type": "markdown",
   "metadata": {
    "id": "y8E4hyL3iCs9"
   },
   "source": [
    "#### 2.6 Alteração na Taxa de Busca no Veículo por Gênero\n",
    "\n",
    "O gênero do condutor afeta se o veículo será revistado? Compararemos as taxas nas quais motoristas do sexo feminino e masculino são revistados durante uma parada de trânsito."
   ]
  },
  {
   "cell_type": "code",
   "execution_count": 16,
   "metadata": {
    "colab": {
     "base_uri": "https://localhost:8080/",
     "height": 156
    },
    "id": "UDGUxU7aiCs-",
    "outputId": "045dc19e-4415-4d43-a2de-b691ee141165"
   },
   "outputs": [
    {
     "name": "stdout",
     "output_type": "stream",
     "text": [
      "Taxa de Busca (Feminino):  0.019181\n",
      "Taxa de Busca (Masculino): 0.045426\n",
      "\n",
      "\n",
      "driver_gender\n",
      "F    0.019181\n",
      "M    0.045426\n",
      "Name: search_conducted, dtype: float64\n"
     ]
    }
   ],
   "source": [
    "# Calculando a taxa de busca para condutores de sexo feminino\n",
    "print(\"Taxa de Busca (Feminino):  \" + str(ri['search_conducted'][ri['driver_gender'] == 'F'].mean().round(6)))\n",
    "\n",
    "# Calculando a taxa de busca para condutores de sexo masculino\n",
    "print(\"Taxa de Busca (Masculino): \" + str(ri['search_conducted'][ri['driver_gender'] == 'M'].mean().round(6)))\n",
    "\n",
    "print(\"\\n\")\n",
    "\n",
    "# Calculando a taxa de busca para ambos os sexos simultaneamente\n",
    "print(ri.groupby('driver_gender')['search_conducted'].mean())"
   ]
  },
  {
   "cell_type": "markdown",
   "metadata": {
    "id": "jzripDpkiCtB"
   },
   "source": [
    "Pode existir um segundo fator para ser analisado. Mesmo que a taxa de busca para homens seja muito maior do que para mulheres, é possível que a diferença se deva principalmente a um segundo fator.\n",
    "\n",
    "Por exemplo, você pode supor que a taxa de busca varia de acordo com o tipo de violação, e a diferença na taxa de busca entre homens e mulheres é porque eles tendem a cometer violações diferentes.\n",
    "\n",
    "Podemos testar essa hipótese examinando a taxa de busca para cada combinação de gênero e violação. Se a hipótese for verdadeira, descobriríamos que homens e mulheres são revistados com a mesma taxa para cada violação."
   ]
  },
  {
   "cell_type": "code",
   "execution_count": 17,
   "metadata": {
    "colab": {
     "base_uri": "https://localhost:8080/",
     "height": 260
    },
    "id": "wWKtfPhUiCtD",
    "outputId": "2f1ab3ad-15b8-4937-b7cb-08438bbbe1de"
   },
   "outputs": [
    {
     "name": "stdout",
     "output_type": "stream",
     "text": [
      "violation            driver_gender\n",
      "Equipment            F                0.039984\n",
      "                     M                0.071496\n",
      "Moving violation     F                0.039257\n",
      "                     M                0.061524\n",
      "Other                F                0.041018\n",
      "                     M                0.046191\n",
      "Registration/plates  F                0.054924\n",
      "                     M                0.108802\n",
      "Seat belt            F                0.017301\n",
      "                     M                0.035119\n",
      "Speeding             F                0.008309\n",
      "                     M                0.027885\n",
      "Name: search_conducted, dtype: float64\n"
     ]
    }
   ],
   "source": [
    "# Calculando a taxa de busca para cada combinação de gênero e violação\n",
    "print(ri.groupby(['violation', 'driver_gender'])['search_conducted'].mean().round(6))"
   ]
  },
  {
   "cell_type": "markdown",
   "metadata": {
    "id": "wPuD6wJ7iCtF"
   },
   "source": [
    "Para todos os tipos de violações, a taxa de busca é maior para homens do que para mulheres, refutando a hipótese. Sendo assim, realmente os homens são mais revistados que as mulheres em uma parada de trânsito."
   ]
  },
  {
   "cell_type": "markdown",
   "metadata": {
    "id": "g4hM3vZRiCtG"
   },
   "source": [
    "#### 2.7 Taxa de Revista no Condutor de Acordo com o Gênero\n",
    "\n",
    "Outra pergunta interessante a se fazer é se o gênero afeta se o motorista será revistado durante uma busca no veículo? Lembre-se de que o campo `search_conducted` é True se houver uma revista no condutor durante uma parada de trânsito e False caso contrário. Há também um campo relacionado, denominado `search_type`, que contém informações adicionais sobre a busca no condutor."
   ]
  },
  {
   "cell_type": "code",
   "execution_count": 18,
   "metadata": {
    "colab": {
     "base_uri": "https://localhost:8080/",
     "height": 555
    },
    "id": "zNewWY8-iCtG",
    "outputId": "f452ab90-20b0-4f14-e26f-70e614dda2df"
   },
   "outputs": [
    {
     "name": "stdout",
     "output_type": "stream",
     "text": [
      "False    83229\n",
      "True      3307\n",
      "Name: search_conducted, dtype: int64\n",
      "\n",
      "\n",
      "Incident to Arrest                                          1290\n",
      "Probable Cause                                               924\n",
      "Inventory                                                    219\n",
      "Reasonable Suspicion                                         214\n",
      "Protective Frisk                                             164\n",
      "Incident to Arrest,Inventory                                 123\n",
      "Incident to Arrest,Probable Cause                            100\n",
      "Probable Cause,Reasonable Suspicion                           54\n",
      "Incident to Arrest,Inventory,Probable Cause                   35\n",
      "Probable Cause,Protective Frisk                               35\n",
      "Incident to Arrest,Protective Frisk                           33\n",
      "Inventory,Probable Cause                                      25\n",
      "Protective Frisk,Reasonable Suspicion                         19\n",
      "Incident to Arrest,Inventory,Protective Frisk                 18\n",
      "Incident to Arrest,Probable Cause,Protective Frisk            13\n",
      "Inventory,Protective Frisk                                    12\n",
      "Incident to Arrest,Reasonable Suspicion                        8\n",
      "Probable Cause,Protective Frisk,Reasonable Suspicion           5\n",
      "Incident to Arrest,Probable Cause,Reasonable Suspicion         5\n",
      "Incident to Arrest,Inventory,Reasonable Suspicion              4\n",
      "Inventory,Reasonable Suspicion                                 2\n",
      "Incident to Arrest,Protective Frisk,Reasonable Suspicion       2\n",
      "Inventory,Probable Cause,Protective Frisk                      1\n",
      "Inventory,Probable Cause,Reasonable Suspicion                  1\n",
      "Inventory,Protective Frisk,Reasonable Suspicion                1\n",
      "Name: search_type, dtype: int64\n"
     ]
    }
   ],
   "source": [
    "# Realizando a contagem da coluna 'search_conducted' \n",
    "print(ri['search_conducted'].value_counts())\n",
    "\n",
    "print(\"\\n\")\n",
    "\n",
    "# Realizando a contagem da coluna 'search_type'\n",
    "print(ri['search_type'].value_counts())"
   ]
  },
  {
   "cell_type": "markdown",
   "metadata": {
    "id": "I_QA780cjao9"
   },
   "source": [
    "Durante a revista de um veículo, o policial pode revistar o motorista para verificar se ele tem uma arma. Isso é conhecido como _\"Protective Frisk\"_.\n",
    "\n",
    "Estamos comparando as taxas em que motoristas do sexo feminino e masculino são revistados durante uma pesquisa. Os homens são revistados com mais frequência do que as mulheres, talvez porque os policiais os considerem de maior risco?\n",
    "\n",
    "Antes de fazer qualquer cálculo, é importante filtrar o DataFrame para incluir apenas o subconjunto de dados relevante, ou seja, as paradas em que uma pesquisa foi realizada."
   ]
  },
  {
   "cell_type": "code",
   "execution_count": 19,
   "metadata": {
    "colab": {
     "base_uri": "https://localhost:8080/",
     "height": 139
    },
    "id": "tyQ_DQFvjZiL",
    "outputId": "84074856-da33-49b2-cdba-b5df7d79c1a1"
   },
   "outputs": [
    {
     "name": "stdout",
     "output_type": "stream",
     "text": [
      "Frisk mean: 0.09162382824312065\n",
      "\n",
      "\n",
      "driver_gender\n",
      "F    0.074561\n",
      "M    0.094353\n",
      "Name: frisk, dtype: float64\n"
     ]
    }
   ],
   "source": [
    "# Criando uma coluna chamada 'frisk' que contéém True se houve uma \"Protective Frisk\" e False caso contrário\n",
    "ri['frisk'] = ri.search_type.str.contains('Protective Frisk', na=False)\n",
    "\n",
    "# Criando um DataFrame que contém apenas as paradas que possuíram revista ao condutor\n",
    "searched = ri[ri['search_conducted'] == True]\n",
    "\n",
    "# Calculando a taxa de revista para \"Protective Frisk\" a partir da média da coluna 'frisk'\n",
    "print(\"Frisk mean: \" + str(searched['frisk'].mean()))\n",
    "\n",
    "print(\"\\n\")\n",
    "\n",
    "# Calculando a taxa de revista por gênero\n",
    "print(searched.groupby('driver_gender')['frisk'].mean())"
   ]
  },
  {
   "cell_type": "markdown",
   "metadata": {
    "id": "qN8DVtQ8kdHc"
   },
   "source": [
    "Fica claro então que a taxa de revista do condutor é maior para o sexo masculino (9.4%) em comparação com o sexo feminino (7.4%)."
   ]
  },
  {
   "cell_type": "markdown",
   "metadata": {
    "id": "qe3UFweziCtK"
   },
   "source": [
    "# 3. Análise de Dados Exploratórios Visuais\n",
    "\n",
    "Você tem mais probabilidade de ser preso em uma determinada hora do dia? As paradas relacionadas às drogas estão aumentando? Vamos tentar responder questões como estas analisando o conjunto de dados visualmente, uma vez que os gráficos podem ajudar a entender as tendências de uma forma que a análise dos dados brutos não pode."
   ]
  },
  {
   "cell_type": "markdown",
   "metadata": {
    "id": "ZXF0rH6IiCtL"
   },
   "source": [
    "#### 3.1 Variações da Taxa de Prisões de Acordo com a Hora do Dia\n",
    "\n",
    "A hora do dia afeta a taxa de prisão? Vamos calcular a taxa de prisão por hora do dia. Quando um policial para um motorista, uma pequena porcentagem dessas paradas termina em uma prisão. Isso é conhecido como taxa de prisão. Estamos então calculando se a taxa de prisão varia de acordo com a hora do dia."
   ]
  },
  {
   "cell_type": "code",
   "execution_count": 20,
   "metadata": {
    "colab": {
     "base_uri": "https://localhost:8080/",
     "height": 486
    },
    "id": "Rtfop32PiCtY",
    "outputId": "27bd5689-96a6-427e-83cf-ac5be8d1c70c"
   },
   "outputs": [
    {
     "name": "stdout",
     "output_type": "stream",
     "text": [
      "Taxa Geral de Prisão: 0.0355690117407784\n",
      "stop_datetime\n",
      "0     0.051431\n",
      "1     0.064932\n",
      "2     0.060798\n",
      "3     0.060549\n",
      "4     0.048000\n",
      "5     0.042781\n",
      "6     0.013813\n",
      "7     0.013032\n",
      "8     0.021854\n",
      "9     0.025206\n",
      "10    0.028213\n",
      "11    0.028897\n",
      "12    0.037399\n",
      "13    0.030776\n",
      "14    0.030605\n",
      "15    0.030679\n",
      "16    0.035281\n",
      "17    0.040619\n",
      "18    0.038204\n",
      "19    0.032245\n",
      "20    0.038107\n",
      "21    0.064541\n",
      "22    0.048666\n",
      "23    0.047592\n",
      "Name: is_arrested, dtype: float64\n"
     ]
    }
   ],
   "source": [
    "# Calculando a taxa geral de prisão\n",
    "print(\"Taxa Geral de Prisão: \" + str(ri['is_arrested'].mean()))\n",
    "\n",
    "# Calculando a taxa geral de prisão para cada hora do dia\n",
    "print(ri.groupby(ri.index.hour)['is_arrested'].mean())\n",
    "\n",
    "# Salvando a taxa geral de prisão por cada hora do dia em uma variável chamada 'hourly_arrest_rate'\n",
    "hourly_arrest_rate = ri.groupby(ri.index.hour)['is_arrested'].mean()"
   ]
  },
  {
   "cell_type": "markdown",
   "metadata": {
    "id": "hpVEnoaxiCtb"
   },
   "source": [
    "#### 3.2 Visualização da Taxa de Prisão por Hora\n",
    "\n",
    "Vamos traçar em um gráfico o comportamento da taxa de prisão por hora do dia, para analisarmos a variação da mesma ao longo do dia."
   ]
  },
  {
   "cell_type": "code",
   "execution_count": 21,
   "metadata": {
    "colab": {
     "base_uri": "https://localhost:8080/",
     "height": 295
    },
    "id": "TN9Zj4s2iCtb",
    "outputId": "e8d64614-75a2-45b0-f52e-4ea91851be09"
   },
   "outputs": [
    {
     "data": {
      "image/png": "[encoded data removed]",
      "text/plain": [
       "<Figure size 432x288 with 1 Axes>"
      ]
     },
     "metadata": {
      "needs_background": "light",
      "tags": []
     },
     "output_type": "display_data"
    }
   ],
   "source": [
    "# Importando matplotlib.pyplot\n",
    "import matplotlib.pyplot as plt\n",
    "\n",
    "# Criando um gráfico de linha com a variável 'hourly_arrest_rate'\n",
    "hourly_arrest_rate.plot()\n",
    "\n",
    "# Adicionando os rótulos do eixo x e y e o título do gráfico\n",
    "plt.xlabel('Hora')\n",
    "plt.ylabel('Taxa de Prisões')\n",
    "plt.title('Prisões por Hora do Dia')\n",
    "\n",
    "# Display the plot\n",
    "plt.show()"
   ]
  },
  {
   "cell_type": "markdown",
   "metadata": {
    "id": "IucBFnFGiCtf"
   },
   "source": [
    "#### 3.3 Paradas de Trânsito Relacionadas à Drogas\n",
    "\n",
    "As paradas de trânsito relacionadas às drogas estão aumentando? Em uma pequena parte das paradas de trânsito, drogas são encontradas no veículo durante uma busca. Estamos avaliando se essas interrupções relacionadas à tráfico de drogas estão se tornando mais comuns com o tempo.\n",
    "\n",
    "A coluna booleana `drug_related_stop` indica se drogas foram encontrados durante uma determinada parada. Vamos calcular então a taxa anual de drogas encontradas reamostrando esta coluna e, em seguida, usaremos um gráfico de linha para visualizar como a taxa mudou ao longo do tempo."
   ]
  },
  {
   "cell_type": "code",
   "execution_count": 22,
   "metadata": {
    "colab": {
     "base_uri": "https://localhost:8080/",
     "height": 243
    },
    "id": "FaDkFFDoiCtg",
    "outputId": "bf2fb60c-d1dc-4ee3-c558-da30efa28cf3"
   },
   "outputs": [
    {
     "name": "stdout",
     "output_type": "stream",
     "text": [
      "stop_datetime\n",
      "2005-12-31    0.006501\n",
      "2006-12-31    0.007258\n",
      "2007-12-31    0.007970\n",
      "2008-12-31    0.007505\n",
      "2009-12-31    0.009889\n",
      "2010-12-31    0.010081\n",
      "2011-12-31    0.009731\n",
      "2012-12-31    0.009921\n",
      "2013-12-31    0.013094\n",
      "2014-12-31    0.013826\n",
      "2015-12-31    0.012266\n",
      "Freq: A-DEC, Name: drugs_related_stop, dtype: float64\n"
     ]
    }
   ],
   "source": [
    "# Calculando a taxa anual de paradas relacionadas ao uso de drogas\n",
    "print(ri['drugs_related_stop'].resample('A').mean())\n",
    "\n",
    "# Salvando a taxa anual de interceptações de drogas na variável 'annual_drug_rate'\n",
    "annual_drug_rate = ri['drugs_related_stop'].resample('A').mean()"
   ]
  },
  {
   "cell_type": "code",
   "execution_count": 23,
   "metadata": {
    "colab": {
     "base_uri": "https://localhost:8080/",
     "height": 280
    },
    "id": "D2iFIRteiCti",
    "outputId": "9a693c5f-305b-43c3-d727-076d13f4a83d"
   },
   "outputs": [
    {
     "data": {
      "image/png": "[encoded data removed]",
      "text/plain": [
       "<Figure size 432x288 with 1 Axes>"
      ]
     },
     "metadata": {
      "needs_background": "light",
      "tags": []
     },
     "output_type": "display_data"
    }
   ],
   "source": [
    "# Criando um gráfico de linha mostrando a taxa anual de apreensão de drogas\n",
    "annual_drug_rate.plot()\n",
    "plt.show()"
   ]
  },
  {
   "cell_type": "markdown",
   "metadata": {
    "id": "9Jr2p_-LiCtm"
   },
   "source": [
    "#### 3.3 Comparação Entre a Taxa de Busca e a Taxa de Drogas Encontradas\n",
    "\n",
    "Como notado anteriormente, a taxa anual de paradas relacionadas à drogas aumentou significativamente entre 2005 e 2015. Esta taxa pode estar relacionada com a taxa de buscas de veículos também estar aumentando, o que teria levado a um aumento nas paradas relacionadas a drogas, mesmo que mais os motoristas não carregavam drogas.\n",
    "\n",
    "Vamos testar essa hipótese calculando a taxa de busca anual e, em seguida, comparando-a com a taxa anual de apreensão de drogas. Se a hipótese for verdadeira, ficaráá claro que ambas as taxas aumentam com o tempo."
   ]
  },
  {
   "cell_type": "code",
   "execution_count": 24,
   "metadata": {
    "colab": {
     "base_uri": "https://localhost:8080/",
     "height": 270
    },
    "id": "r1ewCjL0iCtn",
    "outputId": "e2430ef9-956f-4ca4-f010-c3476ed05d0a"
   },
   "outputs": [
    {
     "data": {
      "image/png": "[encoded data removed]",
      "text/plain": [
       "<Figure size 432x288 with 2 Axes>"
      ]
     },
     "metadata": {
      "needs_background": "light",
      "tags": []
     },
     "output_type": "display_data"
    }
   ],
   "source": [
    "# Calculando e salvando a taxa anual de busca\n",
    "annual_search_rate = ri['search_conducted'].resample('A').mean()\n",
    "\n",
    "# Concatenando 'annual_drug_rate' e 'annual_search_rate'\n",
    "annual = pd.concat([annual_drug_rate, annual_search_rate], axis='columns')\n",
    "\n",
    "# Criando subplots para a variável 'annual'\n",
    "annual.plot(subplots=True)\n",
    "\n",
    "plt.show()"
   ]
  },
  {
   "cell_type": "markdown",
   "metadata": {
    "id": "9mNwsOeFo22K"
   },
   "source": [
    "Fica claro então que a hipótese não é verdadeira, uma vez que a taxa anual de buscas tem diminuído bruscamente, enquanto a taxa anual de apreensão de drogas tem aumentado, simbolizando que o tráfico de drogas realmente aumentou durante os anos."
   ]
  },
  {
   "cell_type": "markdown",
   "metadata": {
    "id": "39bBrniJiCtp"
   },
   "source": [
    "#### 3.4 Violações Mais Frequentes por Distrito\n",
    "\n",
    "Quais violações são mais detectadas em cada distrito? O estado de Rhode Island está dividido em seis distritos policiais, também conhecidos como zonas. Como as zonas se comparam em termos de quais violações são detectadas pela polícia?\n",
    "\n",
    "Para fazer esta análise, criaremos uma tabela de frequência para determinar quantas violações de cada tipo ocorreram em cada uma das seis zonas. Em seguida, filtraremos a tabela para focar nas zonas \"K\", que serão examinadas com mais detalhes adiante."
   ]
  },
  {
   "cell_type": "code",
   "execution_count": 25,
   "metadata": {
    "colab": {
     "base_uri": "https://localhost:8080/",
     "height": 347
    },
    "id": "DxLscsWniCtq",
    "outputId": "38467ad7-521c-4b76-9717-8a65a55857b5"
   },
   "outputs": [
    {
     "name": "stdout",
     "output_type": "stream",
     "text": [
      "violation  Equipment  Moving violation  ...  Seat belt  Speeding\n",
      "district                                ...                     \n",
      "Zone K1          672              1254  ...          0      5960\n",
      "Zone K2         2061              2962  ...        481     10448\n",
      "Zone K3         2302              2898  ...        638     12322\n",
      "Zone X1          296               671  ...         74      1119\n",
      "Zone X3         2049              3086  ...        820      8779\n",
      "Zone X4         3541              5353  ...        843      9795\n",
      "\n",
      "[6 rows x 6 columns]\n",
      "\n",
      "\n",
      "violation  Equipment  Moving violation  ...  Seat belt  Speeding\n",
      "district                                ...                     \n",
      "Zone K1          672              1254  ...          0      5960\n",
      "Zone K2         2061              2962  ...        481     10448\n",
      "Zone K3         2302              2898  ...        638     12322\n",
      "\n",
      "[3 rows x 6 columns]\n"
     ]
    }
   ],
   "source": [
    "# Criando uma tabela de frequência de distritos e violações\n",
    "print(pd.crosstab(ri['district'], ri['violation']))\n",
    "\n",
    "print(\"\\n\")\n",
    "\n",
    "# Salvando a tabela de frequências na variável 'all_zones'\n",
    "all_zones = pd.crosstab(ri['district'], ri['violation'])\n",
    "\n",
    "# Selecionando as linhas 'Zone K1' até 'Zone K3'\n",
    "print(all_zones.loc['Zone K1':'Zone K3'])\n",
    "\n",
    "# Salvando a tabela contendo apenas as K zonas na variável 'k_zones'\n",
    "k_zones = all_zones.loc['Zone K1':'Zone K3']"
   ]
  },
  {
   "cell_type": "code",
   "execution_count": 26,
   "metadata": {
    "colab": {
     "base_uri": "https://localhost:8080/",
     "height": 311
    },
    "id": "j5zMxpa8iCtt",
    "outputId": "4d312db3-731c-4fd3-ae4c-1efaef819daf"
   },
   "outputs": [
    {
     "data": {
      "image/png": "[encoded data removed]",
      "text/plain": [
       "<Figure size 432x288 with 1 Axes>"
      ]
     },
     "metadata": {
      "needs_background": "light",
      "tags": []
     },
     "output_type": "display_data"
    }
   ],
   "source": [
    "# Criando um gráfico de barra com as 'k_zones'\n",
    "k_zones.plot(kind='bar', stacked=True)\n",
    "\n",
    "plt.show()"
   ]
  },
  {
   "cell_type": "markdown",
   "metadata": {
    "id": "LmoDjqEMiCtv"
   },
   "source": [
    "#### 3.5 Taxa de Infração por Buscas Realizadas\n",
    "\n",
    "Neste caso, queremos saber quantas buscas foram realizadas para que se encontrasse cada tipo de violação. Isto é, queremos saber a taxa de infrações com relação ao número de buscas realizadas em veículos."
   ]
  },
  {
   "cell_type": "code",
   "execution_count": 27,
   "metadata": {
    "colab": {
     "base_uri": "https://localhost:8080/",
     "height": 282
    },
    "id": "HHP6HNe1iCtv",
    "outputId": "bcbf48a0-8c17-4176-dcc0-945677c02b21"
   },
   "outputs": [
    {
     "data": {
      "text/plain": [
       "<matplotlib.axes._subplots.AxesSubplot at 0x7f8d34d2a4a8>"
      ]
     },
     "execution_count": 27,
     "metadata": {
      "tags": []
     },
     "output_type": "execute_result"
    },
    {
     "data": {
      "image/png": "[encoded data removed]",
      "text/plain": [
       "<Figure size 432x288 with 1 Axes>"
      ]
     },
     "metadata": {
      "needs_background": "light",
      "tags": []
     },
     "output_type": "display_data"
    }
   ],
   "source": [
    "# Criando a taxa de busca\n",
    "search_rate = ri.groupby('violation')['search_conducted'].mean()\n",
    "\n",
    "# Plotando a taxa de busca\n",
    "search_rate.sort_values().plot(kind='barh')"
   ]
  },
  {
   "cell_type": "markdown",
   "metadata": {
    "id": "KpDgisTaiCty"
   },
   "source": [
    "#### 3.6 Duração das Paradas de Trânsito\n",
    "\n",
    "Iremos neste caso converter as durações de paradas de trânsito em números mais simples de se analisar. No conjunto de dados de paradas de trânsito, a coluna `stop_duration` informa aproximadamente por quanto tempo o motorista foi detido pelo policial. Infelizmente, as durações são armazenadas como strings, como '0-15 Min'. Podemos tornar esses dados mais fáceis de analisar.\n",
    "\n",
    "Convertendo:\n",
    "'0-15 Min' a 8\n",
    "'16 -30 Min 'a 23\n",
    "'30 + Min 'a 45\n"
   ]
  },
  {
   "cell_type": "code",
   "execution_count": 28,
   "metadata": {
    "colab": {
     "base_uri": "https://localhost:8080/",
     "height": 52
    },
    "id": "n_uOBXIZiCtz",
    "outputId": "ec925b89-2ec5-42de-df7a-4e77a1d60ca6"
   },
   "outputs": [
    {
     "name": "stdout",
     "output_type": "stream",
     "text": [
      "['0-15 Min' '16-30 Min' '30+ Min']\n",
      "[ 8 23 45]\n"
     ]
    }
   ],
   "source": [
    "# Print the unique values in 'stop_duration'\n",
    "print(ri['stop_duration'].unique())\n",
    "\n",
    "# Create a dictionary that maps strings to integers\n",
    "mapping = {'0-15 Min' : 8, '16-30 Min' : 23, '30+ Min' : 45}\n",
    "\n",
    "# Convert the 'stop_duration' strings to integers using the 'mapping'\n",
    "ri['stop_minutes'] = ri['stop_duration'].map(mapping)\n",
    "\n",
    "# Print the unique values in 'stop_minutes'\n",
    "print(ri['stop_minutes'].unique())"
   ]
  },
  {
   "cell_type": "markdown",
   "metadata": {
    "id": "N-QTXungiCt2"
   },
   "source": [
    "Agora iremos então evidenciar através de um gráfico quanto tempo pode ser necessário ficar em uma parada de trânsito. Neste caso, iremos fornecer a  visualização do tempo médio de parada dos motoristas para cada tipo de violação. Em vez de usar a coluna `violation` usamos a coluna `violação_raw`, pois contém descrições mais detalhadas das violações."
   ]
  },
  {
   "cell_type": "code",
   "execution_count": 29,
   "metadata": {
    "colab": {
     "base_uri": "https://localhost:8080/",
     "height": 543
    },
    "id": "zJclZOlAiCt3",
    "outputId": "9477d075-4702-4653-9821-41f432c972c8"
   },
   "outputs": [
    {
     "name": "stdout",
     "output_type": "stream",
     "text": [
      "violation_raw\n",
      "APB                                 17.967033\n",
      "Call for Service                    22.124371\n",
      "Equipment/Inspection Violation      11.445655\n",
      "Motorist Assist/Courtesy            17.741463\n",
      "Other Traffic Violation             13.844490\n",
      "Registration Violation              13.736970\n",
      "Seatbelt Violation                   9.662815\n",
      "Special Detail/Directed Patrol      15.123632\n",
      "Speeding                            10.581562\n",
      "Suspicious Person                   14.910714\n",
      "Violation of City/Town Ordinance    13.254144\n",
      "Warrant                             24.055556\n",
      "Name: stop_minutes, dtype: float64\n",
      "\n",
      "\n"
     ]
    },
    {
     "data": {
      "image/png": "[encoded data removed]",
      "text/plain": [
       "<Figure size 432x288 with 1 Axes>"
      ]
     },
     "metadata": {
      "needs_background": "light",
      "tags": []
     },
     "output_type": "display_data"
    }
   ],
   "source": [
    "# Calculando a média de 'stop_minutes' para cada valor na coluna 'violation_raw'\n",
    "print(ri.groupby('violation_raw')['stop_minutes'].mean())\n",
    "\n",
    "print(\"\\n\")\n",
    "\n",
    "# Salvando o resultado em uma variável chamada stop_lenght\n",
    "stop_length = ri.groupby('violation_raw')['stop_minutes'].mean()\n",
    "\n",
    "# Ordenando a variável 'stop_length' e fornecendo o gráfico de barra horizontal dos valores apresentados\n",
    "stop_length.sort_values().plot(kind='barh')\n",
    "\n",
    "plt.show()"
   ]
  },
  {
   "cell_type": "markdown",
   "metadata": {
    "id": "2aT7-n1P1uQ4"
   },
   "source": [
    "Fica evidente então que algumas infrações realmente costumam demorar um tempo maior para avaliação do policial, enquanto outras o motorista é dispensado com certa rapidez."
   ]
  }
 ],
 "metadata": {
  "colab": {
   "name": "notebook.ipynb",
   "provenance": []
  },
  "kernelspec": {
   "display_name": "Python 3",
   "language": "python",
   "name": "python3"
  },
  "language_info": {
   "codemirror_mode": {
    "name": "ipython",
    "version": 3
   },
   "file_extension": ".py",
   "mimetype": "text/x-python",
   "name": "python",
   "nbconvert_exporter": "python",
   "pygments_lexer": "ipython3",
   "version": "3.7.6"
  }
 },
 "nbformat": 4,
 "nbformat_minor": 1
}
